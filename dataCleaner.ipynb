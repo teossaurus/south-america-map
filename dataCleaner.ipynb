{
 "metadata": {
  "name": "",
  "signature": "sha256:d84bcf3e74ef4b60c291fc20ed60e3329a7093542212e288fd7c44960be615ea"
 },
 "nbformat": 3,
 "nbformat_minor": 0,
 "worksheets": [
  {
   "cells": [
    {
     "cell_type": "code",
     "collapsed": false,
     "input": [
      "import pandas as pd\n",
      "import datetime\n",
      "\n",
      "data = pd.read_csv('query.csv')\n",
      "\n",
      "data.time = [i.replace(\"T\",' ').split('.')[0] for i in data.time]\n",
      "\n",
      "foo = [datetime.datetime.strptime(i, \"%Y-%m-%d %H:%M:%S\") for i in data.time]\n",
      "print type(foo[0])\n",
      "\n",
      "df = pd.DataFrame(data = None)\n",
      "\n",
      "df['lat'] = [i for i in data.latitude]\n",
      "df['lon'] = [i for i in data.longitude]\n",
      "df['mag'] = [i for i in data.mag]\n",
      "df['time'] = [i for i in foo]\n",
      "\n",
      "\n",
      "df = df.sort('time').reset_index(drop=True)\n",
      "df.head()\n",
      "\n",
      "bar = [(i - df.time[0]).total_seconds() for i in df.time]\n",
      "\n",
      "df['t'] = bar\n",
      "\n",
      "df.head()"
     ],
     "language": "python",
     "metadata": {},
     "outputs": [
      {
       "output_type": "stream",
       "stream": "stdout",
       "text": [
        "<type 'datetime.datetime'>\n"
       ]
      },
      {
       "html": [
        "<div style=\"max-height:1000px;max-width:1500px;overflow:auto;\">\n",
        "<table border=\"1\" class=\"dataframe\">\n",
        "  <thead>\n",
        "    <tr style=\"text-align: right;\">\n",
        "      <th></th>\n",
        "      <th>lat</th>\n",
        "      <th>lon</th>\n",
        "      <th>mag</th>\n",
        "      <th>time</th>\n",
        "      <th>t</th>\n",
        "    </tr>\n",
        "  </thead>\n",
        "  <tbody>\n",
        "    <tr>\n",
        "      <th>0</th>\n",
        "      <td>-22.0353</td>\n",
        "      <td>-67.4145</td>\n",
        "      <td> 4.4</td>\n",
        "      <td>2015-10-01 01:53:34</td>\n",
        "      <td>    0</td>\n",
        "    </tr>\n",
        "    <tr>\n",
        "      <th>1</th>\n",
        "      <td>-30.7069</td>\n",
        "      <td>-71.4783</td>\n",
        "      <td> 4.7</td>\n",
        "      <td>2015-10-01 02:06:22</td>\n",
        "      <td>  768</td>\n",
        "    </tr>\n",
        "    <tr>\n",
        "      <th>2</th>\n",
        "      <td> 18.0000</td>\n",
        "      <td>-66.9182</td>\n",
        "      <td> 2.8</td>\n",
        "      <td>2015-10-01 02:16:16</td>\n",
        "      <td> 1362</td>\n",
        "    </tr>\n",
        "    <tr>\n",
        "      <th>3</th>\n",
        "      <td>-30.1461</td>\n",
        "      <td>-72.0068</td>\n",
        "      <td> 4.6</td>\n",
        "      <td>2015-10-01 02:25:54</td>\n",
        "      <td> 1940</td>\n",
        "    </tr>\n",
        "    <tr>\n",
        "      <th>4</th>\n",
        "      <td>-31.9046</td>\n",
        "      <td>-72.2302</td>\n",
        "      <td> 4.4</td>\n",
        "      <td>2015-10-01 03:21:37</td>\n",
        "      <td> 5283</td>\n",
        "    </tr>\n",
        "  </tbody>\n",
        "</table>\n",
        "</div>"
       ],
       "metadata": {},
       "output_type": "pyout",
       "prompt_number": 1,
       "text": [
        "       lat      lon  mag                time     t\n",
        "0 -22.0353 -67.4145  4.4 2015-10-01 01:53:34     0\n",
        "1 -30.7069 -71.4783  4.7 2015-10-01 02:06:22   768\n",
        "2  18.0000 -66.9182  2.8 2015-10-01 02:16:16  1362\n",
        "3 -30.1461 -72.0068  4.6 2015-10-01 02:25:54  1940\n",
        "4 -31.9046 -72.2302  4.4 2015-10-01 03:21:37  5283"
       ]
      }
     ],
     "prompt_number": 1
    },
    {
     "cell_type": "code",
     "collapsed": false,
     "input": [
      "df.to_csv('quakeData.csv', index=False)"
     ],
     "language": "python",
     "metadata": {},
     "outputs": [],
     "prompt_number": 2
    },
    {
     "cell_type": "code",
     "collapsed": false,
     "input": [],
     "language": "python",
     "metadata": {},
     "outputs": []
    }
   ],
   "metadata": {}
  }
 ]
}