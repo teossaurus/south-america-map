{
 "metadata": {
  "name": "",
  "signature": "sha256:3dac8600d15869b1c54d59efdb50cd226e3802bbe4ab1945788157025c2f3fbe"
 },
 "nbformat": 3,
 "nbformat_minor": 0,
 "worksheets": []
}